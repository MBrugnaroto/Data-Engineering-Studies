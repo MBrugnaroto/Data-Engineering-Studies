{
 "cells": [
  {
   "cell_type": "markdown",
   "id": "d59eb912",
   "metadata": {},
   "source": [
    "## Library"
   ]
  },
  {
   "cell_type": "code",
   "execution_count": 223,
   "id": "b832cbf9",
   "metadata": {},
   "outputs": [],
   "source": [
    "import os, math\n",
    "import mysql.connector as MariaDB\n",
    "import pandas as pd\n",
    "from jinjasql import JinjaSql\n",
    "from six import string_types\n",
    "from copy import deepcopy\n",
    "from random import random\n",
    "from datetime import datetime"
   ]
  },
  {
   "cell_type": "markdown",
   "id": "161ef7a4",
   "metadata": {},
   "source": [
    "## DB Connection"
   ]
  },
  {
   "cell_type": "code",
   "execution_count": 94,
   "id": "766aad55",
   "metadata": {},
   "outputs": [],
   "source": [
    "user = os.environ.get(\"USER\")\n",
    "pw = os.environ.get('PASSWORD')\n",
    "\n",
    "con = MariaDB.connect(\n",
    "    host=\"127.0.0.1\",\n",
    "    user=user,\n",
    "    passwd=pw,\n",
    "    db=\"DB_TEST\",\n",
    "    port=3336\n",
    "    )\n",
    "\n",
    "cursor = con.cursor()"
   ]
  },
  {
   "cell_type": "markdown",
   "id": "972b24ee",
   "metadata": {},
   "source": [
    "## Funcions and SQL Templates"
   ]
  },
  {
   "cell_type": "markdown",
   "id": "edb7c362",
   "metadata": {},
   "source": [
    "#### Jinja Templates"
   ]
  },
  {
   "cell_type": "code",
   "execution_count": 92,
   "id": "b1f1004c",
   "metadata": {},
   "outputs": [],
   "source": [
    "_SIMPLE_SELECT_TEMPLATE = \\\n",
    "    \"\"\"\n",
    "    {% if show_columns %}\n",
    "        {% set columns = '\\n    ,'.join(show_columns) %}\n",
    "    {% endif %}\n",
    "    SELECT\n",
    "        {% if columns %}\n",
    "            {{ columns | sqlsafe }}\n",
    "        {% else %}\n",
    "            * \n",
    "        {% endif %}\n",
    "    FROM \n",
    "        {{ table | sqlsafe }}\n",
    "    \"\"\""
   ]
  },
  {
   "cell_type": "markdown",
   "id": "9e20819d",
   "metadata": {},
   "source": [
    "#### Functions"
   ]
  },
  {
   "cell_type": "markdown",
   "id": "b099a8c4",
   "metadata": {},
   "source": [
    "* Functions to work with Jinja Templates"
   ]
  },
  {
   "cell_type": "code",
   "execution_count": 60,
   "id": "e672d8a6",
   "metadata": {},
   "outputs": [],
   "source": [
    "\n",
    "def quote_sql_string(value):\n",
    "    if isinstance(value, string_types):\n",
    "        new_value = str(value)\n",
    "        new_value = new_value.replace(\"'\", \"''\")\n",
    "        return \"'{}'\".format(new_value)\n",
    "    return value\n",
    "\n",
    "def get_sql_from_template(query, bind_params):\n",
    "    if not bind_params:\n",
    "        return query\n",
    "    params = deepcopy(bind_params)\n",
    "    for key, val in params.items():\n",
    "        params[key] = quote_sql_string(val)\n",
    "    return query % params\n",
    "\n",
    "def apply_sql_template(template, parameters):\n",
    "    j = JinjaSql(param_style='pyformat')\n",
    "    query, bind_params = j.prepare_query(template, parameters)\n",
    "    return get_sql_from_template(query, bind_params)\n",
    "\n",
    "def get_select_table_sql(table, show_columns=None):    \n",
    "    data = {\n",
    "        \"table\": table,\n",
    "        \"show_columns\": show_columns\n",
    "    }\n",
    "    return apply_sql_template(_SIMPLE_SELECT_TEMPLATE, data)\n",
    "\n"
   ]
  },
  {
   "cell_type": "markdown",
   "id": "8dd94997",
   "metadata": {},
   "source": [
    "* Functions to generate data"
   ]
  },
  {
   "cell_type": "code",
   "execution_count": 237,
   "id": "89c4525a",
   "metadata": {},
   "outputs": [],
   "source": [
    "def generate_rand_number(min, max):\n",
    "    return math.floor((random()*(max-min))+min)\n",
    "\n",
    "def get_rand_value(df, column):\n",
    "    total_values = df[column].count()\n",
    "    position = generate_rand_number(0, total_values-1)\n",
    "    return df.iloc[position][column]\n",
    "    "
   ]
  },
  {
   "cell_type": "markdown",
   "metadata": {},
   "source": [
    "## Database Tables to DF"
   ]
  },
  {
   "cell_type": "code",
   "execution_count": 96,
   "id": "78f837ab",
   "metadata": {},
   "outputs": [],
   "source": [
    "tables = []\n",
    "cursor.execute('show tables')\n",
    "\n",
    "for row in cursor:\n",
    "    tables.append(row[0])\n",
    "    \n",
    "tables"
   ]
  },
  {
   "cell_type": "code",
   "execution_count": 98,
   "id": "76f74461",
   "metadata": {},
   "outputs": [],
   "source": [
    "query_items_notes = get_select_table_sql(\"itens_notas_fiscais\")\n",
    "query_notes       = get_select_table_sql(\"notas_fiscais\")\n",
    "query_customers   = get_select_table_sql(\"tabela_de_clientes\")\n",
    "query_products    = get_select_table_sql(\"tabela_de_produtos\")\n",
    "query_sellers     = get_select_table_sql(\"tabela_de_vendedores\")\n",
    "\n",
    "df_items_notes = pd.read_sql(query_items_notes, con)\n",
    "df_notes       = pd.read_sql(query_notes, con)\n",
    "df_customers   = pd.read_sql(query_customers, con)\n",
    "df_products    = pd.read_sql(query_products, con)\n",
    "df_sellers     = pd.read_sql(query_sellers, con)\n"
   ]
  },
  {
   "cell_type": "markdown",
   "id": "767fdb11",
   "metadata": {},
   "source": [
    "## Generate Data"
   ]
  },
  {
   "cell_type": "code",
   "execution_count": 240,
   "metadata": {},
   "outputs": [],
   "source": [
    "new_notes  = pd.DataFrame(columns=df_notes.columns)\n",
    "new_items  = pd.DataFrame(columns=df_items_notes.columns)\n",
    "date_sale  = datetime.today().strftime('%Y-%m-%d')\n",
    "last_note  = df_notes['NUMERO'].max()\n",
    "tax_median = df_notes['IMPOSTO'].median()\n",
    "\n",
    "for i in range(100000):\n",
    "    note_number = last_note + i\n",
    "    customer_cpf = get_rand_value(df_customers, 'CPF')\n",
    "    seller_id = get_rand_value(df_sellers, 'MATRICULA')\n",
    "    new_notes.loc[len(new_notes)] = [customer_cpf, seller_id, date_sale, note_number, tax_median]\n",
    "    \n",
    "#product_code = get_rand_value(df_products, 'CODIGO_DO_PRODUTO')"
   ]
  },
  {
   "cell_type": "code",
   "execution_count": 239,
   "id": "bc0afc49",
   "metadata": {},
   "outputs": [
    {
     "data": {
      "text/html": [
       "<div>\n",
       "<style scoped>\n",
       "    .dataframe tbody tr th:only-of-type {\n",
       "        vertical-align: middle;\n",
       "    }\n",
       "\n",
       "    .dataframe tbody tr th {\n",
       "        vertical-align: top;\n",
       "    }\n",
       "\n",
       "    .dataframe thead th {\n",
       "        text-align: right;\n",
       "    }\n",
       "</style>\n",
       "<table border=\"1\" class=\"dataframe\">\n",
       "  <thead>\n",
       "    <tr style=\"text-align: right;\">\n",
       "      <th></th>\n",
       "      <th>CPF</th>\n",
       "      <th>MATRICULA</th>\n",
       "      <th>DATA_VENDA</th>\n",
       "      <th>NUMERO</th>\n",
       "      <th>IMPOSTO</th>\n",
       "    </tr>\n",
       "  </thead>\n",
       "  <tbody>\n",
       "    <tr>\n",
       "      <th>0</th>\n",
       "      <td>2600586709</td>\n",
       "      <td>00235</td>\n",
       "      <td>2022-05-25</td>\n",
       "      <td>125865</td>\n",
       "      <td>0.109984</td>\n",
       "    </tr>\n",
       "    <tr>\n",
       "      <th>1</th>\n",
       "      <td>5840119709</td>\n",
       "      <td>00236</td>\n",
       "      <td>2022-05-25</td>\n",
       "      <td>125866</td>\n",
       "      <td>0.109984</td>\n",
       "    </tr>\n",
       "    <tr>\n",
       "      <th>2</th>\n",
       "      <td>8719655770</td>\n",
       "      <td>00237</td>\n",
       "      <td>2022-05-25</td>\n",
       "      <td>125867</td>\n",
       "      <td>0.109984</td>\n",
       "    </tr>\n",
       "    <tr>\n",
       "      <th>3</th>\n",
       "      <td>5648641702</td>\n",
       "      <td>00237</td>\n",
       "      <td>2022-05-25</td>\n",
       "      <td>125868</td>\n",
       "      <td>0.109984</td>\n",
       "    </tr>\n",
       "    <tr>\n",
       "      <th>4</th>\n",
       "      <td>492472718</td>\n",
       "      <td>00235</td>\n",
       "      <td>2022-05-25</td>\n",
       "      <td>125869</td>\n",
       "      <td>0.109984</td>\n",
       "    </tr>\n",
       "  </tbody>\n",
       "</table>\n",
       "</div>"
      ],
      "text/plain": [
       "          CPF MATRICULA  DATA_VENDA  NUMERO   IMPOSTO\n",
       "0  2600586709     00235  2022-05-25  125865  0.109984\n",
       "1  5840119709     00236  2022-05-25  125866  0.109984\n",
       "2  8719655770     00237  2022-05-25  125867  0.109984\n",
       "3  5648641702     00237  2022-05-25  125868  0.109984\n",
       "4   492472718     00235  2022-05-25  125869  0.109984"
      ]
     },
     "execution_count": 239,
     "metadata": {},
     "output_type": "execute_result"
    }
   ],
   "source": [
    "new_notes.head()"
   ]
  }
 ],
 "metadata": {
  "kernelspec": {
   "display_name": "Python 3.8.10 ('engenv': venv)",
   "language": "python",
   "name": "python3"
  },
  "language_info": {
   "codemirror_mode": {
    "name": "ipython",
    "version": 3
   },
   "file_extension": ".py",
   "mimetype": "text/x-python",
   "name": "python",
   "nbconvert_exporter": "python",
   "pygments_lexer": "ipython3",
   "version": "3.8.10"
  },
  "vscode": {
   "interpreter": {
    "hash": "d471e49b01850ee360f40854310f786568778a899d42d43ff72d849e1e3064ff"
   }
  }
 },
 "nbformat": 4,
 "nbformat_minor": 5
}
